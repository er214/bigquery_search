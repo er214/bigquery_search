{
  "nbformat": 4,
  "nbformat_minor": 0,
  "metadata": {
    "colab": {
      "provenance": [],
      "toc_visible": true
    },
    "kernelspec": {
      "name": "python3",
      "display_name": "Python 3"
    },
    "language_info": {
      "name": "python"
    }
  },
  "cells": [
    {
      "cell_type": "markdown",
      "source": [
        "# Download Glove word vectors"
      ],
      "metadata": {
        "id": "r3tMd8rmE4Gw"
      }
    },
    {
      "cell_type": "code",
      "source": [
        "# Download the zipped word vectors file\n",
        "!wget https://nlp.stanford.edu/data/glove.840B.300d.zip\n",
        "# Extract the text file\n",
        "!unzip glove.840B.300d.zip\n",
        "# Remove the original zip file\n",
        "!rm glove*.zip"
      ],
      "metadata": {
        "id": "_oUJ9Z8JCWvv"
      },
      "execution_count": null,
      "outputs": []
    },
    {
      "cell_type": "markdown",
      "source": [
        "# Connect to BigQuery"
      ],
      "metadata": {
        "id": "QkrJD3nXCh8p"
      }
    },
    {
      "cell_type": "code",
      "source": [
        "import numpy as np\n",
        "from google.cloud import bigquery\n",
        "import pandas as pd\n",
        "from tqdm import tqdm"
      ],
      "metadata": {
        "id": "tRlO3aKnCw4e"
      },
      "execution_count": null,
      "outputs": []
    },
    {
      "cell_type": "code",
      "source": [
        "from google.colab import auth\n",
        "auth.authenticate_user()"
      ],
      "metadata": {
        "id": "YD8qAtOCCxYD"
      },
      "execution_count": null,
      "outputs": []
    },
    {
      "cell_type": "markdown",
      "source": [
        "Edit the following cell to enter the project ID of you google project:"
      ],
      "metadata": {
        "id": "5jbEka0htHHh"
      }
    },
    {
      "cell_type": "code",
      "source": [
        "project_id = '[your Cloud Platform project ID]'\n",
        "\n",
        "client = bigquery.Client(project=project_id)"
      ],
      "metadata": {
        "id": "d4HztPi-CxYD"
      },
      "execution_count": null,
      "outputs": []
    },
    {
      "cell_type": "markdown",
      "source": [
        "# Load word vectors into a Pandas dataframe"
      ],
      "metadata": {
        "id": "F3ZBq98wGmIV"
      }
    },
    {
      "cell_type": "code",
      "source": [
        "# First, read through the the space delimited text file and extract the words and vectors\n",
        "# We store these as dicts inside a list to then make it easy to convert to a Pandas DataFrame\n",
        "glove = []\n",
        "with open('glove.840B.300d.txt','r') as f:\n",
        "  for line in tqdm(f, total=2196017):\n",
        "    split_line = line.split(\" \")\n",
        "    word = split_line[0]\n",
        "    embedding = np.array(split_line[1:], dtype=np.float32)\n",
        "    glove.append({'word': word, 'vector': embedding})"
      ],
      "metadata": {
        "id": "b3W5krQSGzSG",
        "colab": {
          "base_uri": "https://localhost:8080/"
        },
        "outputId": "aa62917d-996c-4530-c7b3-9d777e00dad0"
      },
      "execution_count": null,
      "outputs": [
        {
          "output_type": "stream",
          "name": "stderr",
          "text": [
            "100%|██████████| 2196017/2196017 [02:24<00:00, 15180.51it/s]\n"
          ]
        }
      ]
    },
    {
      "cell_type": "code",
      "source": [
        "glove_dataframe = pd.DataFrame(glove)"
      ],
      "metadata": {
        "id": "KTPUe_nzM_JJ"
      },
      "execution_count": null,
      "outputs": []
    },
    {
      "cell_type": "code",
      "source": [
        "# Check that this has worked by looking at a couple of the entries\n",
        "glove_dataframe.sample(2)"
      ],
      "metadata": {
        "colab": {
          "base_uri": "https://localhost:8080/",
          "height": 112
        },
        "id": "p84_4xh4NcUh",
        "outputId": "f93b8b04-f4a3-4f46-a59a-129721f1a8c2"
      },
      "execution_count": null,
      "outputs": [
        {
          "output_type": "execute_result",
          "data": {
            "text/plain": [
              "            word                                             vector\n",
              "233068   45-year  [0.10416, -0.27513, 0.44471, 0.40818, 0.25943,...\n",
              "2135957   1883-O  [-0.18289, -0.39028, -0.045854, 0.40068, -0.43..."
            ],
            "text/html": [
              "\n",
              "  <div id=\"df-8ae430e7-6f69-477b-9799-32dc466537c2\">\n",
              "    <div class=\"colab-df-container\">\n",
              "      <div>\n",
              "<style scoped>\n",
              "    .dataframe tbody tr th:only-of-type {\n",
              "        vertical-align: middle;\n",
              "    }\n",
              "\n",
              "    .dataframe tbody tr th {\n",
              "        vertical-align: top;\n",
              "    }\n",
              "\n",
              "    .dataframe thead th {\n",
              "        text-align: right;\n",
              "    }\n",
              "</style>\n",
              "<table border=\"1\" class=\"dataframe\">\n",
              "  <thead>\n",
              "    <tr style=\"text-align: right;\">\n",
              "      <th></th>\n",
              "      <th>word</th>\n",
              "      <th>vector</th>\n",
              "    </tr>\n",
              "  </thead>\n",
              "  <tbody>\n",
              "    <tr>\n",
              "      <th>233068</th>\n",
              "      <td>45-year</td>\n",
              "      <td>[0.10416, -0.27513, 0.44471, 0.40818, 0.25943,...</td>\n",
              "    </tr>\n",
              "    <tr>\n",
              "      <th>2135957</th>\n",
              "      <td>1883-O</td>\n",
              "      <td>[-0.18289, -0.39028, -0.045854, 0.40068, -0.43...</td>\n",
              "    </tr>\n",
              "  </tbody>\n",
              "</table>\n",
              "</div>\n",
              "      <button class=\"colab-df-convert\" onclick=\"convertToInteractive('df-8ae430e7-6f69-477b-9799-32dc466537c2')\"\n",
              "              title=\"Convert this dataframe to an interactive table.\"\n",
              "              style=\"display:none;\">\n",
              "        \n",
              "  <svg xmlns=\"http://www.w3.org/2000/svg\" height=\"24px\"viewBox=\"0 0 24 24\"\n",
              "       width=\"24px\">\n",
              "    <path d=\"M0 0h24v24H0V0z\" fill=\"none\"/>\n",
              "    <path d=\"M18.56 5.44l.94 2.06.94-2.06 2.06-.94-2.06-.94-.94-2.06-.94 2.06-2.06.94zm-11 1L8.5 8.5l.94-2.06 2.06-.94-2.06-.94L8.5 2.5l-.94 2.06-2.06.94zm10 10l.94 2.06.94-2.06 2.06-.94-2.06-.94-.94-2.06-.94 2.06-2.06.94z\"/><path d=\"M17.41 7.96l-1.37-1.37c-.4-.4-.92-.59-1.43-.59-.52 0-1.04.2-1.43.59L10.3 9.45l-7.72 7.72c-.78.78-.78 2.05 0 2.83L4 21.41c.39.39.9.59 1.41.59.51 0 1.02-.2 1.41-.59l7.78-7.78 2.81-2.81c.8-.78.8-2.07 0-2.86zM5.41 20L4 18.59l7.72-7.72 1.47 1.35L5.41 20z\"/>\n",
              "  </svg>\n",
              "      </button>\n",
              "      \n",
              "  <style>\n",
              "    .colab-df-container {\n",
              "      display:flex;\n",
              "      flex-wrap:wrap;\n",
              "      gap: 12px;\n",
              "    }\n",
              "\n",
              "    .colab-df-convert {\n",
              "      background-color: #E8F0FE;\n",
              "      border: none;\n",
              "      border-radius: 50%;\n",
              "      cursor: pointer;\n",
              "      display: none;\n",
              "      fill: #1967D2;\n",
              "      height: 32px;\n",
              "      padding: 0 0 0 0;\n",
              "      width: 32px;\n",
              "    }\n",
              "\n",
              "    .colab-df-convert:hover {\n",
              "      background-color: #E2EBFA;\n",
              "      box-shadow: 0px 1px 2px rgba(60, 64, 67, 0.3), 0px 1px 3px 1px rgba(60, 64, 67, 0.15);\n",
              "      fill: #174EA6;\n",
              "    }\n",
              "\n",
              "    [theme=dark] .colab-df-convert {\n",
              "      background-color: #3B4455;\n",
              "      fill: #D2E3FC;\n",
              "    }\n",
              "\n",
              "    [theme=dark] .colab-df-convert:hover {\n",
              "      background-color: #434B5C;\n",
              "      box-shadow: 0px 1px 3px 1px rgba(0, 0, 0, 0.15);\n",
              "      filter: drop-shadow(0px 1px 2px rgba(0, 0, 0, 0.3));\n",
              "      fill: #FFFFFF;\n",
              "    }\n",
              "  </style>\n",
              "\n",
              "      <script>\n",
              "        const buttonEl =\n",
              "          document.querySelector('#df-8ae430e7-6f69-477b-9799-32dc466537c2 button.colab-df-convert');\n",
              "        buttonEl.style.display =\n",
              "          google.colab.kernel.accessAllowed ? 'block' : 'none';\n",
              "\n",
              "        async function convertToInteractive(key) {\n",
              "          const element = document.querySelector('#df-8ae430e7-6f69-477b-9799-32dc466537c2');\n",
              "          const dataTable =\n",
              "            await google.colab.kernel.invokeFunction('convertToInteractive',\n",
              "                                                     [key], {});\n",
              "          if (!dataTable) return;\n",
              "\n",
              "          const docLinkHtml = 'Like what you see? Visit the ' +\n",
              "            '<a target=\"_blank\" href=https://colab.research.google.com/notebooks/data_table.ipynb>data table notebook</a>'\n",
              "            + ' to learn more about interactive tables.';\n",
              "          element.innerHTML = '';\n",
              "          dataTable['output_type'] = 'display_data';\n",
              "          await google.colab.output.renderOutput(dataTable, element);\n",
              "          const docLink = document.createElement('div');\n",
              "          docLink.innerHTML = docLinkHtml;\n",
              "          element.appendChild(docLink);\n",
              "        }\n",
              "      </script>\n",
              "    </div>\n",
              "  </div>\n",
              "  "
            ]
          },
          "metadata": {},
          "execution_count": 44
        }
      ]
    },
    {
      "cell_type": "markdown",
      "source": [
        "# Create BigQuery dataset"
      ],
      "metadata": {
        "id": "1VmFQgMkxqx7"
      }
    },
    {
      "cell_type": "code",
      "source": [
        "dataset_id = 'word_vectors_us'\n",
        "\n",
        "# Construct a full Dataset object to send to the API.\n",
        "dataset = bigquery.Dataset(f'{project_id}.{dataset_id}')\n",
        "\n",
        "# Note - we will set the dataset location to US to match the source data\n",
        "# in `bigquery-public-data.breathe` \n",
        "dataset.location = \"US\"\n",
        "\n",
        "dataset = client.create_dataset(dataset, timeout=30)  # Make an API request."
      ],
      "metadata": {
        "id": "-nfgycPixurs"
      },
      "execution_count": null,
      "outputs": []
    },
    {
      "cell_type": "markdown",
      "source": [
        "# Upload vectors to BQ table"
      ],
      "metadata": {
        "id": "4p-HrZOlFrqO"
      }
    },
    {
      "cell_type": "code",
      "source": [
        "# Provide the name for the table which will contain the word vectors:\n",
        "vectors_table_id = 'glove_vectors'\n",
        "\n",
        "table_id = f\"{project_id}.{dataset_id}.{vectors_table_id}\"\n",
        "print(f'Word vectors to be save to: {table_id}')"
      ],
      "metadata": {
        "id": "eBcAjuPqC7T8"
      },
      "execution_count": null,
      "outputs": []
    },
    {
      "cell_type": "markdown",
      "source": [
        "The next step is to define the table schema. We could just let the API try to determine the schema automatically, but our schema is a bit unusual so it's best to be explicit.\n",
        "\n",
        "We want there to be a single string field for the word, and then an ARRAY field to store the vectors. "
      ],
      "metadata": {
        "id": "COKLU9UcywR8"
      }
    },
    {
      "cell_type": "code",
      "source": [
        "# Define the schema to match the dataframe:\n",
        "schema = [bigquery.SchemaField(\"word\", bigquery.enums.SqlTypeNames.STRING),\n",
        "          bigquery.SchemaField('vector', bigquery.enums.SqlTypeNames.FLOAT, mode='REPEATED'),\n",
        "         ]"
      ],
      "metadata": {
        "id": "NOTRElO_NuzH"
      },
      "execution_count": null,
      "outputs": []
    },
    {
      "cell_type": "markdown",
      "source": [
        "The next step is to use the API to save the pandas dataframe to a table. When I tried to save the entire 5GB dataframe in one go Colab crashed with a memory error. The solution I've used is to upload the data in chunks in a loop."
      ],
      "metadata": {
        "id": "RwrBKr83zwfl"
      }
    },
    {
      "cell_type": "code",
      "source": [
        "# Define the job to load the dataframe into the target table\n",
        "job_config = bigquery.LoadJobConfig(\n",
        "    schema=schema,\n",
        "    write_disposition=\"WRITE_APPEND\"\n",
        ")"
      ],
      "metadata": {
        "id": "4Mcf-iPqioLk"
      },
      "execution_count": null,
      "outputs": []
    },
    {
      "cell_type": "code",
      "source": [
        "for i in range(0, len(glove_dataframe), 250000):\n",
        "  end = min(i+250000, len(glove_dataframe)-1)\n",
        "  print(f'Uploading from index {i} to {end}')\n",
        "  job = client.load_table_from_dataframe(\n",
        "    glove_dataframe.iloc[i:end], \n",
        "    table_id, \n",
        "    job_config=job_config,\n",
        "  )\n",
        "  job.result()"
      ],
      "metadata": {
        "colab": {
          "base_uri": "https://localhost:8080/"
        },
        "id": "uBYLobdEiTOw",
        "outputId": "d3c9a626-0cbf-43bb-ba02-19a0befc68fd"
      },
      "execution_count": null,
      "outputs": [
        {
          "output_type": "stream",
          "name": "stdout",
          "text": [
            "Uploading from index 250000 to 500000\n",
            "Uploading from index 500000 to 750000\n",
            "Uploading from index 750000 to 1000000\n",
            "Uploading from index 1000000 to 1250000\n",
            "Uploading from index 1250000 to 1500000\n",
            "Uploading from index 1500000 to 1750000\n",
            "Uploading from index 1750000 to 2000000\n",
            "Uploading from index 2000000 to 2196016\n"
          ]
        }
      ]
    },
    {
      "cell_type": "code",
      "source": [
        "q = client.query(f'SELECT COUNT(*) total_rows FROM {table_id}')\n",
        "results = q.result().to_dataframe()"
      ],
      "metadata": {
        "id": "GmGvQjtmvwkJ"
      },
      "execution_count": null,
      "outputs": []
    },
    {
      "cell_type": "code",
      "source": [
        "results"
      ],
      "metadata": {
        "colab": {
          "base_uri": "https://localhost:8080/",
          "height": 81
        },
        "id": "fnbuyYez17Lj",
        "outputId": "5de19df3-b27c-4ba0-ec1b-4f97fe8a4f71"
      },
      "execution_count": null,
      "outputs": [
        {
          "output_type": "execute_result",
          "data": {
            "text/plain": [
              "   total_rows\n",
              "0     2196016"
            ],
            "text/html": [
              "\n",
              "  <div id=\"df-4860b329-862e-400e-bb81-60bc77120161\">\n",
              "    <div class=\"colab-df-container\">\n",
              "      <div>\n",
              "<style scoped>\n",
              "    .dataframe tbody tr th:only-of-type {\n",
              "        vertical-align: middle;\n",
              "    }\n",
              "\n",
              "    .dataframe tbody tr th {\n",
              "        vertical-align: top;\n",
              "    }\n",
              "\n",
              "    .dataframe thead th {\n",
              "        text-align: right;\n",
              "    }\n",
              "</style>\n",
              "<table border=\"1\" class=\"dataframe\">\n",
              "  <thead>\n",
              "    <tr style=\"text-align: right;\">\n",
              "      <th></th>\n",
              "      <th>total_rows</th>\n",
              "    </tr>\n",
              "  </thead>\n",
              "  <tbody>\n",
              "    <tr>\n",
              "      <th>0</th>\n",
              "      <td>2196016</td>\n",
              "    </tr>\n",
              "  </tbody>\n",
              "</table>\n",
              "</div>\n",
              "      <button class=\"colab-df-convert\" onclick=\"convertToInteractive('df-4860b329-862e-400e-bb81-60bc77120161')\"\n",
              "              title=\"Convert this dataframe to an interactive table.\"\n",
              "              style=\"display:none;\">\n",
              "        \n",
              "  <svg xmlns=\"http://www.w3.org/2000/svg\" height=\"24px\"viewBox=\"0 0 24 24\"\n",
              "       width=\"24px\">\n",
              "    <path d=\"M0 0h24v24H0V0z\" fill=\"none\"/>\n",
              "    <path d=\"M18.56 5.44l.94 2.06.94-2.06 2.06-.94-2.06-.94-.94-2.06-.94 2.06-2.06.94zm-11 1L8.5 8.5l.94-2.06 2.06-.94-2.06-.94L8.5 2.5l-.94 2.06-2.06.94zm10 10l.94 2.06.94-2.06 2.06-.94-2.06-.94-.94-2.06-.94 2.06-2.06.94z\"/><path d=\"M17.41 7.96l-1.37-1.37c-.4-.4-.92-.59-1.43-.59-.52 0-1.04.2-1.43.59L10.3 9.45l-7.72 7.72c-.78.78-.78 2.05 0 2.83L4 21.41c.39.39.9.59 1.41.59.51 0 1.02-.2 1.41-.59l7.78-7.78 2.81-2.81c.8-.78.8-2.07 0-2.86zM5.41 20L4 18.59l7.72-7.72 1.47 1.35L5.41 20z\"/>\n",
              "  </svg>\n",
              "      </button>\n",
              "      \n",
              "  <style>\n",
              "    .colab-df-container {\n",
              "      display:flex;\n",
              "      flex-wrap:wrap;\n",
              "      gap: 12px;\n",
              "    }\n",
              "\n",
              "    .colab-df-convert {\n",
              "      background-color: #E8F0FE;\n",
              "      border: none;\n",
              "      border-radius: 50%;\n",
              "      cursor: pointer;\n",
              "      display: none;\n",
              "      fill: #1967D2;\n",
              "      height: 32px;\n",
              "      padding: 0 0 0 0;\n",
              "      width: 32px;\n",
              "    }\n",
              "\n",
              "    .colab-df-convert:hover {\n",
              "      background-color: #E2EBFA;\n",
              "      box-shadow: 0px 1px 2px rgba(60, 64, 67, 0.3), 0px 1px 3px 1px rgba(60, 64, 67, 0.15);\n",
              "      fill: #174EA6;\n",
              "    }\n",
              "\n",
              "    [theme=dark] .colab-df-convert {\n",
              "      background-color: #3B4455;\n",
              "      fill: #D2E3FC;\n",
              "    }\n",
              "\n",
              "    [theme=dark] .colab-df-convert:hover {\n",
              "      background-color: #434B5C;\n",
              "      box-shadow: 0px 1px 3px 1px rgba(0, 0, 0, 0.15);\n",
              "      filter: drop-shadow(0px 1px 2px rgba(0, 0, 0, 0.3));\n",
              "      fill: #FFFFFF;\n",
              "    }\n",
              "  </style>\n",
              "\n",
              "      <script>\n",
              "        const buttonEl =\n",
              "          document.querySelector('#df-4860b329-862e-400e-bb81-60bc77120161 button.colab-df-convert');\n",
              "        buttonEl.style.display =\n",
              "          google.colab.kernel.accessAllowed ? 'block' : 'none';\n",
              "\n",
              "        async function convertToInteractive(key) {\n",
              "          const element = document.querySelector('#df-4860b329-862e-400e-bb81-60bc77120161');\n",
              "          const dataTable =\n",
              "            await google.colab.kernel.invokeFunction('convertToInteractive',\n",
              "                                                     [key], {});\n",
              "          if (!dataTable) return;\n",
              "\n",
              "          const docLinkHtml = 'Like what you see? Visit the ' +\n",
              "            '<a target=\"_blank\" href=https://colab.research.google.com/notebooks/data_table.ipynb>data table notebook</a>'\n",
              "            + ' to learn more about interactive tables.';\n",
              "          element.innerHTML = '';\n",
              "          dataTable['output_type'] = 'display_data';\n",
              "          await google.colab.output.renderOutput(dataTable, element);\n",
              "          const docLink = document.createElement('div');\n",
              "          docLink.innerHTML = docLinkHtml;\n",
              "          element.appendChild(docLink);\n",
              "        }\n",
              "      </script>\n",
              "    </div>\n",
              "  </div>\n",
              "  "
            ]
          },
          "metadata": {},
          "execution_count": 67
        }
      ]
    },
    {
      "cell_type": "code",
      "source": [],
      "metadata": {
        "id": "DquVjfzm2xHQ"
      },
      "execution_count": null,
      "outputs": []
    }
  ]
}